{
 "cells": [
  {
   "cell_type": "markdown",
   "metadata": {},
   "source": [
    "# Assignment 1 - Threading and Multiprocessing\n",
    "\n",
    "In this project, we will explore multithreading an multiprocessing difference. For that purpose, we have an imaginary colleage whose name is John, who asks for your help to increase the speed of his process while downloading images from internet.\n",
    "\n",
    "John already has the code for serial-programming, however, he don't know concurrent programming and parallel programming! Help John to succeed in his mission by using multithreading and multiprocessing logic to increase the speed of his task.\n",
    "\n",
    "He has two tasks:\n",
    "\n",
    "1. Download images from internet\n",
    "2. Resize them to 128x128 px. \n"
   ]
  },
  {
   "cell_type": "markdown",
   "metadata": {},
   "source": [
    "## Imports"
   ]
  },
  {
   "cell_type": "code",
   "execution_count": 1,
   "metadata": {},
   "outputs": [],
   "source": [
    "import os\n",
    "import utils\n",
    "import PIL"
   ]
  },
  {
   "cell_type": "markdown",
   "metadata": {},
   "source": [
    "## Global Variables"
   ]
  },
  {
   "cell_type": "code",
   "execution_count": 2,
   "metadata": {},
   "outputs": [],
   "source": [
    "CLIENT_ID = \"20e704a7b229339\""
   ]
  },
  {
   "cell_type": "code",
   "execution_count": 3,
   "metadata": {},
   "outputs": [],
   "source": [
    "NUM_OF_IMAGES = 1000 # max requests can be done per day is 12500\n",
    "CLIENT_ID = utils.get_imgur_client_id()\n",
    "IMAGES_DIR = utils.create_download_dir()"
   ]
  },
  {
   "cell_type": "markdown",
   "metadata": {},
   "source": [
    "## 1. Downloading Images from Internet (Threading)\n",
    "\n",
    "In this section, we will download some images from internet. As network related tasks are considered as IO bound, it can be fasten by multithreading the downloading task. Our john already did serial way of downloading, it is your turn to do multithreading.\n",
    "\n",
    "You are free to choose any library you want. Your success will be based on your ability to beat John's timing."
   ]
  },
  {
   "cell_type": "markdown",
   "metadata": {},
   "source": [
    "### Serial Code of John"
   ]
  },
  {
   "cell_type": "code",
   "execution_count": 4,
   "metadata": {},
   "outputs": [
    {
     "name": "stdout",
     "output_type": "stream",
     "text": [
      "too many requests, enough, or you can choose to put time.sleep() in here...\n",
      "Wall time: 5.81 s\n"
     ]
    }
   ],
   "source": [
    "%%time\n",
    "\n",
    "image_links = utils.build_link_list(CLIENT_ID, NUM_OF_IMAGES)\n",
    "\n",
    "for image_link in image_links:\n",
    "    utils.download_image_from_url(image_link, IMAGES_DIR)"
   ]
  },
  {
   "cell_type": "markdown",
   "metadata": {},
   "source": [
    "### Multithreading John's Task"
   ]
  },
  {
   "cell_type": "code",
   "execution_count": 5,
   "metadata": {},
   "outputs": [
    {
     "name": "stdout",
     "output_type": "stream",
     "text": [
      "too many requests, enough, or you can choose to put time.sleep() in here...\n",
      "Done\n",
      "Wall time: 5.09 s\n"
     ]
    }
   ],
   "source": [
    "%%time\n",
    "\n",
    "import threading\n",
    "\n",
    "if __name__ == \"__main__\":\n",
    "    image_links = utils.build_link_list(CLIENT_ID, NUM_OF_IMAGES)\n",
    "    for image_link in image_links:\n",
    "        utils.download_image_from_url(image_link, IMAGES_DIR)\n",
    "    #Create Thread\n",
    "    t1 = threading.Thread(target = utils.download_image_from_url,args =(image_link, IMAGES_DIR) )\n",
    "    \n",
    "    t2 = threading.Thread(target = utils.download_image_from_url,args =(image_link, IMAGES_DIR) )\n",
    "    \n",
    "    t1.start()\n",
    "    t2.start()\n",
    "    \n",
    "    t1.join()\n",
    "    t2.join()\n",
    "    \n",
    "    print(\"Done\")"
   ]
  },
  {
   "cell_type": "markdown",
   "metadata": {},
   "source": [
    "## 2. Resizing (Multiprocessing)\n",
    "\n",
    "In this part, we have to resize the images downloaded into another size, in this example case, it will be 128x128px. As CPU bound operations are generally considered as multiprocessing tasks, resizing suits exactly for this purpose!\n",
    "\n",
    "You are free to choose any library you want. Your success will be based on your ability to beat John's timing."
   ]
  },
  {
   "cell_type": "markdown",
   "metadata": {},
   "source": [
    "### Serial Code of John"
   ]
  },
  {
   "cell_type": "code",
   "execution_count": 6,
   "metadata": {},
   "outputs": [
    {
     "name": "stdout",
     "output_type": "stream",
     "text": [
      "Wall time: 10.3 s\n"
     ]
    }
   ],
   "source": [
    "%%time\n",
    "\n",
    "# PS: time for 845 images : 10.1 s\n",
    "\n",
    "image_path_list = os.listdir('images')\n",
    "\n",
    "for image_path in image_path_list:\n",
    "    utils.create_thumbnail((128, 128), os.path.join('images', image_path))"
   ]
  },
  {
   "cell_type": "markdown",
   "metadata": {},
   "source": [
    "# Multiprocessing:- Multithreading John's Task"
   ]
  },
  {
   "cell_type": "code",
   "execution_count": 7,
   "metadata": {},
   "outputs": [
    {
     "name": "stdout",
     "output_type": "stream",
     "text": [
      "Wall time: 200 ms\n"
     ]
    }
   ],
   "source": [
    "%%time\n",
    "\n",
    "import multiprocessing\n",
    "from multiprocessing import Pool\n",
    "\n",
    "p = multiprocessing.Pool(processes=6)\n",
    "\n",
    "image_path_list = os.listdir('images')\n",
    "\n",
    "for image_path in image_path_list:\n",
    "    \n",
    "    p.apply_async(utils.create_thumbnail(128, 128), os.path.join('images', image_path))"
   ]
  },
  {
   "cell_type": "markdown",
   "metadata": {},
   "source": [
    "## Conclusion\n",
    "\n",
    "John is very happy with your help and he wants to show his progress to his manager. Help him to create a dataframe/ table to present his results. \n",
    "\n",
    "Create a table to show differences between all four approaches and the time it took for those tasks. Table can be anything, as long as you show the differences, as in below.\n",
    "\n",
    "|Description | Time \n",
    "|:----------- | :---- \n",
    "|Task 1 | 19.2 sec\n",
    "|Task 2 | 3.2 sec\n",
    "|Task N | 6.2 sec\n",
    "|... | ..."
   ]
  },
  {
   "cell_type": "code",
   "execution_count": 10,
   "metadata": {
    "scrolled": true
   },
   "outputs": [
    {
     "name": "stdout",
     "output_type": "stream",
     "text": [
      "+----+----------------------------------+-------------+\n",
      "|    | Description                      | Wall time   |\n",
      "|----+----------------------------------+-------------|\n",
      "|  0 | Download images by John          | 5.81s       |\n",
      "|  1 | Download images = Multithreading | 5.09s       |\n",
      "|  2 | Resize Image John's code         | 10.3s       |\n",
      "|  3 | Multiprocessing = Multithreading | 200s        |\n",
      "+----+----------------------------------+-------------+\n"
     ]
    }
   ],
   "source": [
    "from tabulate import tabulate\n",
    "print(tabulate(\n",
    "    {\"Description\": \n",
    "     [\"Download images by John\", \"Download images = Multithreading\",\n",
    "                                \"Resize Image John's code\", \"Multiprocessing = Multithreading\"],\n",
    "        \"Wall time\": [\"5.81s\",\"5.09s\",\"10.3s\", \"200s\"]},\n",
    "               headers=\"keys\", showindex=\"always\", tablefmt=\"psql\"))"
   ]
  }
 ],
 "metadata": {
  "kernelspec": {
   "display_name": "Python 3",
   "language": "python",
   "name": "python3"
  },
  "language_info": {
   "codemirror_mode": {
    "name": "ipython",
    "version": 3
   },
   "file_extension": ".py",
   "mimetype": "text/x-python",
   "name": "python",
   "nbconvert_exporter": "python",
   "pygments_lexer": "ipython3",
   "version": "3.7.4"
  }
 },
 "nbformat": 4,
 "nbformat_minor": 2
}
